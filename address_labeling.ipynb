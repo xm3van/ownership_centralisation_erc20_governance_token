{
 "cells": [
  {
   "attachments": {},
   "cell_type": "markdown",
   "metadata": {},
   "source": [
    "Classification of Smart Contracts\n",
    "- a) Separate EOA & Smart Contracts \n",
    "    - A multisig has no outgoing transactions \n",
    "    - It can have creation event but no necessarily (i.e. proxy contract controls EOA)\n",
    "        - see 1: Contract creation event - https://etherscan.io/address/0x8392f6669292fa56123f71949b52d883ae57e225\n",
    "        - see 2: Doesn't have contract creation event - https://etherscan.io/address/0x9e2b6378ee8ad2a4a95fe481d63caba8fb0ebbf9\n",
    "- b) Filter out Multisigs \n",
    "- c) Classify remaining smart contracts using  ABI, bytecode, return values, and manual code review.\n",
    "    \n",
    "> Ref.: https://ieeexplore.ieee.org/document/9730412\n",
    "\n",
    "> Ref.: https://arxiv.org/pdf/2106.15497.pdf \n",
    "\n",
    "> Ref.: https://ieeexplore.ieee.org/document/9019682 \n"
   ]
  },
  {
   "attachments": {},
   "cell_type": "markdown",
   "metadata": {},
   "source": [
    "## EOA Parser"
   ]
  },
  {
   "cell_type": "code",
   "execution_count": 13,
   "metadata": {},
   "outputs": [],
   "source": [
    "import pandas as pd\n",
    "import numpy as np\n",
    "import dask.dataframe as dd\n",
    "from os.path import join\n",
    "import os\n",
    "\n",
    "from dotenv import load_dotenv\n",
    "load_dotenv()  \n",
    "\n",
    "path = os.environ['PROJECT_PATH']"
   ]
  },
  {
   "cell_type": "code",
   "execution_count": 14,
   "metadata": {},
   "outputs": [],
   "source": [
    "col_name=['hash', 'nonce', \"block_hash\",'block_number',\"transaction_index\",'from_address', 'to_address', 'value', 'gas', 'gas_price',\"input\",'block_timestamp', \"max_fee_per_gas\",\"max_priority_fee_per_gas\",\"transaction_type\"]\n",
    "dd_tx = dd.read_csv(join(path,'tx_all_uniq_addresses2.csv'), dtype='str', header=None, names=col_name)"
   ]
  },
  {
   "cell_type": "code",
   "execution_count": null,
   "metadata": {},
   "outputs": [],
   "source": [
    "from web3 import Web3, HTTPProvider\n",
    "\n",
    "df_ua = pd.read_csv(join(path, 'df_unique_addresses2.csv'))\n",
    "\n",
    "w3 = Web3(Web3.HTTPProvider(os.environ['ETHEREUM_NODE_ENDPOINT']))\n",
    "\n",
    "for a in df_ua.unique_addresses: \n",
    "\n",
    "    address = w3.toChecksumAddress(a)\n",
    "\n",
    "    if w3.utilis.isAddress(address):\n",
    "        if w3.eth.getCode(address) == '0x':\n",
    "            print(\"This is an EOA.\")\n",
    "        else:\n",
    "            print(\"This is a contract.\")\n",
    "    else:\n",
    "        print(\"Invalid Ethereum address\")\n",
    "\n",
    "    break"
   ]
  },
  {
   "cell_type": "code",
   "execution_count": 30,
   "metadata": {},
   "outputs": [],
   "source": [
    "# dd_tx = dd.read_csv(join(path,'transactions_merged_all.csv'), dtype='str')\n",
    "# dd_tx.head()"
   ]
  },
  {
   "cell_type": "markdown",
   "metadata": {},
   "source": [
    "## Smart Contract Classification"
   ]
  },
  {
   "cell_type": "code",
   "execution_count": null,
   "metadata": {},
   "outputs": [],
   "source": []
  },
  {
   "cell_type": "markdown",
   "metadata": {},
   "source": [
    "## External sources of address labeling "
   ]
  },
  {
   "attachments": {},
   "cell_type": "markdown",
   "metadata": {},
   "source": [
    "### Lp pair addresses\n",
    "> Note: For simplification we assume a balanced LP pool of 50-50. \n",
    "\n",
    "1. Filter LP address that are in our set of addresses \n",
    "2. Extract all holder of LP Pool share token\n",
    "3. Sum balances of LP share token for snapshot date \n",
    "4. Divide by 2 \n",
    "5. Add to balances of direct wallet holdings of a given token at snapshot height"
   ]
  },
  {
   "cell_type": "code",
   "execution_count": 19,
   "metadata": {},
   "outputs": [],
   "source": [
    "df_ua = pd.read_csv(join(path, 'df_unique_addresses2.csv'))\n",
    "df_ua.drop(columns=['Unnamed: 0'], inplace=True)\n",
    "df_lp_pairs = pd.read_csv('assets/address_labels/dex_lp_pair_addresses.csv')"
   ]
  },
  {
   "cell_type": "code",
   "execution_count": 20,
   "metadata": {},
   "outputs": [],
   "source": [
    "df_lp_pairs['pair_address_f'] = df_lp_pairs['hex(pair_address)'].apply(lambda x: w3.toChecksumAddress('0x' + x))\n",
    "df_ua['unique_addresses_f'] = df_ua.unique_addresses.apply(lambda x: w3.toChecksumAddress(x))"
   ]
  },
  {
   "cell_type": "code",
   "execution_count": 38,
   "metadata": {},
   "outputs": [],
   "source": [
    "df_lp_pairs_relevant = df_lp_pairs[df_lp_pairs.pair_address_f.isin(df_ua.unique_addresses_f)]"
   ]
  },
  {
   "cell_type": "code",
   "execution_count": null,
   "metadata": {},
   "outputs": [],
   "source": [
    "## merged df include lp pair data if relevant\n",
    "df_ua.merge(df_lp_pairs_relevant, left_on='unique_addresses_f', right_on='pair_address_f', how='outer', suffixes=('','dex'))"
   ]
  }
 ],
 "metadata": {
  "kernelspec": {
   "display_name": "Python 3",
   "language": "python",
   "name": "python3"
  },
  "language_info": {
   "codemirror_mode": {
    "name": "ipython",
    "version": 3
   },
   "file_extension": ".py",
   "mimetype": "text/x-python",
   "name": "python",
   "nbconvert_exporter": "python",
   "pygments_lexer": "ipython3",
   "version": "3.9.2"
  },
  "orig_nbformat": 4,
  "vscode": {
   "interpreter": {
    "hash": "e7370f93d1d0cde622a1f8e1c04877d8463912d04d973331ad4851f04de6915a"
   }
  }
 },
 "nbformat": 4,
 "nbformat_minor": 2
}
